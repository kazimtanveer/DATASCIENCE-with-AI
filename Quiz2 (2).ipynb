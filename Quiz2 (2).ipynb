{
 "cells": [
  {
   "cell_type": "markdown",
   "id": "f08dbbf6-9e2c-4519-ae19-b8415eab81d7",
   "metadata": {},
   "source": [
    "# -Quiz#2\n",
    "* Name-Umer tanveer\n",
    "*  Name-Kazim tanveer\n",
    "* evening"
   ]
  },
  {
   "cell_type": "code",
   "execution_count": 2,
   "id": "39914e82-17a8-433f-9727-f0b2e404ddee",
   "metadata": {},
   "outputs": [],
   "source": [
    "import pandas as pd\n",
    "import numpy as np"
   ]
  },
  {
   "cell_type": "markdown",
   "id": "42857920-d92d-4da4-ba17-e60bad844459",
   "metadata": {},
   "source": [
    "# 1.What is NumPy, and why is it important for data science?"
   ]
  },
  {
   "cell_type": "code",
   "execution_count": 4,
   "id": "e4cbb0ae-d35a-4d82-b67b-9f0bd995ebc6",
   "metadata": {},
   "outputs": [],
   "source": [
    "# Numpy:\n",
    "# Numpy is a library and is commonly used with in datascience.In order to work through numerical analysis and functions.\n",
    "\n",
    "# Importance:\n",
    "# * It is used to deal with arrays.\n",
    "# * It deals with numerical values.\n",
    "# * It deals with mathematical formulas."
   ]
  },
  {
   "cell_type": "markdown",
   "id": "b51fc2e9-301b-47f5-9389-37fe010cb86e",
   "metadata": {},
   "source": [
    "# 2.Explain the difference between a Python list and a NumPy array?"
   ]
  },
  {
   "cell_type": "code",
   "execution_count": 6,
   "id": "8debbdf2-324a-4cfb-9438-abb7068ad520",
   "metadata": {},
   "outputs": [],
   "source": [
    "## PYTHON LIST:\n",
    "# In python lists data stores on vacant places without any group.\n",
    "# These are homogenious or hetrogenous in nature.\n",
    "# lists doesnot perform mathematical expressions.\n",
    "# list consumes high memory.\n",
    "# e.g list=[1,2,3,\"Apple\"]\n",
    "\n",
    "## numpy array:\n",
    "# Array is a data structure and all data is stored combined.\n",
    "# These are homogenous in nature.\n",
    "# It consumses less space.\n",
    "# It performs mathematical expressions.\n",
    "# e.g np.array([1,2,3,\"Apple\"])"
   ]
  },
  {
   "cell_type": "markdown",
   "id": "66d9ae59-b7b7-41fe-8c57-7bdc83406d45",
   "metadata": {},
   "source": [
    "# 3.How do you create a NumPy array of zeros with a specific shape?"
   ]
  },
  {
   "cell_type": "code",
   "execution_count": 8,
   "id": "7aff1002-edf1-44c5-ac14-9360f94f1d58",
   "metadata": {},
   "outputs": [
    {
     "name": "stdout",
     "output_type": "stream",
     "text": [
      "[[0. 0. 0.]]\n"
     ]
    }
   ],
   "source": [
    "import numpy as np\n",
    "array=np.zeros((1,3))\n",
    "print(array)"
   ]
  },
  {
   "cell_type": "markdown",
   "id": "27fcb2b8-b7bc-4b42-a717-4b3bd28e1603",
   "metadata": {},
   "source": [
    "# 4.What are the common data types in NumPy arrays?"
   ]
  },
  {
   "cell_type": "markdown",
   "id": "889ac611-c6b4-4bc2-b68d-1ea6bc494ed5",
   "metadata": {},
   "source": [
    "* integers. \n",
    "* float.\n",
    "* boolean.\n",
    "* complex float.\n",
    "* object.\n",
    "* unsigned integers.\n",
    "* timedalta."
   ]
  },
  {
   "cell_type": "markdown",
   "id": "c68ecabb-1472-4e37-a343-2d12e76a1b51",
   "metadata": {},
   "source": [
    "# 5.Explain the difference between the loc and iloc indexers in Pandas?"
   ]
  },
  {
   "cell_type": "code",
   "execution_count": 30,
   "id": "8129c4cd-8aa7-4168-ba8d-821071ab8d74",
   "metadata": {},
   "outputs": [
    {
     "name": "stdout",
     "output_type": "stream",
     "text": [
      "      Name  Age      City\n",
      "a    Alice   25  New York\n",
      "b      Bob   30    London\n",
      "c  Charlie   22     Paris\n",
      "the third value of age is\n"
     ]
    },
    {
     "data": {
      "text/plain": [
       "22"
      ]
     },
     "execution_count": 30,
     "metadata": {},
     "output_type": "execute_result"
    }
   ],
   "source": [
    "# loc:\n",
    "#  Label-based indexing: loc uses explicit labels or names to access data,\n",
    "#  this means you can directly specify the row and column labels you want to select.\n",
    "\n",
    "data = {'Name': ['Alice', 'Bob', 'Charlie'],\n",
    "        'Age': [25, 30, 22],\n",
    "        'City': ['New York', 'London', 'Paris']}\n",
    "df = pd.DataFrame(data)\n",
    "row=[\"a\",\"b\",\"c\"]\n",
    "df.index=row\n",
    "print(df)\n",
    "\n",
    "# select the third value of age\n",
    "print(\"the third value of age is\")\n",
    "df.loc[\"c\",\"Age\"]\n"
   ]
  },
  {
   "cell_type": "code",
   "execution_count": 32,
   "id": "c4d338dc-06ba-4057-ae24-235bf86ae171",
   "metadata": {},
   "outputs": [
    {
     "name": "stdout",
     "output_type": "stream",
     "text": [
      "    Name  Age      City\n",
      "a  Alice   25  New York\n",
      "b    Bob   30    London\n",
      "Name       Alice\n",
      "Age           25\n",
      "City    New York\n",
      "Name: a, dtype: object\n",
      "    Name  Age\n",
      "a  Alice   25\n",
      "b    Bob   30\n"
     ]
    }
   ],
   "source": [
    "# iloc:\n",
    "# * Integer-based indexing: iloc uses integer positions to access data.\n",
    "# This means you specify the row and column positions (starting from 0) to select.\n",
    "# Select the first two rows\n",
    "print(df.iloc[0:2])\n",
    "\n",
    "# Select the first row and all columns\n",
    "print(df.iloc[0, :])\n",
    "\n",
    "# Select the first two rows and the first two columns\n",
    "print(df.iloc[0:2, 0:2])"
   ]
  },
  {
   "cell_type": "markdown",
   "id": "ef49f2c5-7967-4e56-b1b1-cd1f6edea24d",
   "metadata": {},
   "source": [
    "# 6.How do you import data from a CSV file into a Pandas DataFrame?"
   ]
  },
  {
   "cell_type": "code",
   "execution_count": null,
   "id": "63e4f3af-1447-48ca-958e-fd4921eb6e5d",
   "metadata": {},
   "outputs": [],
   "source": [
    "data=pd.read_csv(r\"Downloads\\Student Depression Dataset.csv\")\n",
    "df=pd.DataFrame(data)\n",
    "df.head() "
   ]
  },
  {
   "cell_type": "markdown",
   "id": "17498641-a3f2-4df8-96e5-878928272cca",
   "metadata": {},
   "source": [
    "# 7.How do you select specific columns or rows from a DataFrame?"
   ]
  },
  {
   "cell_type": "code",
   "execution_count": null,
   "id": "a803ec5a-5840-4034-9c73-3387163b3e26",
   "metadata": {},
   "outputs": [],
   "source": [
    "df.iloc[[2,6],[1,3]]"
   ]
  },
  {
   "cell_type": "markdown",
   "id": "20c7171f-ecf2-4d3c-b4ad-6eab8b59e965",
   "metadata": {},
   "source": [
    "# 8.How do you handle missing values (NaN) in a DataFrame?"
   ]
  },
  {
   "cell_type": "code",
   "execution_count": null,
   "id": "f86aaa93-c6b8-4d05-83a4-31fa10647138",
   "metadata": {},
   "outputs": [],
   "source": [
    "# we can fill missing values by fillna method,bfill method,ffill method,by putting mean ,mode,median\n",
    "\n",
    "data1={\"EMPID\":[\"E01\",\"E02\",\"E03\",\"E04\",\"E05\"],\n",
    "    \"name\":[None,\"umer\",\"ali\",\"ahmed\",None],\n",
    "      \"last_name\":[\"khan\",\"tanveer\",\"amjd\",\"umer\",\"safeer\"],\n",
    "      \"age\":[20,23,None,24,None],\n",
    "      \"department\":[\"cs\",\"se\",\"ds\",\"it\",\"bba\"]}\n",
    "df1=pd.DataFrame(data1)"
   ]
  },
  {
   "cell_type": "code",
   "execution_count": null,
   "id": "2c7b0eea-8767-457d-a5d2-e4938b351c48",
   "metadata": {},
   "outputs": [],
   "source": [
    "data2={\"EMPID\":[\"E01\",\"E02\",\"E03\",\"E04\",\"E06\"],\n",
    "    \"name\":[\"tayyab\",\"kashif\",\"asad\",\"tariq\",\"qamar\"],\n",
    "      \"last_name\":[\"asad\",\"tariq\",\"kashif\",\"hatim\",\"john\"],\n",
    "       \"salary\":[1000,2000,3000,4000,5000],\n",
    "       \"salary_2\":[16000,28000,38000,48000,9000],\n",
    "      \"age\":[20,22,23,None,24],\n",
    "      \"department\":[\"d_form\",\"bs_maths\",\"law\",\"english\",\"stats\"]}\n",
    "df2=pd.DataFrame(data2)\n",
    "print(df2)"
   ]
  },
  {
   "cell_type": "code",
   "execution_count": null,
   "id": "bf440588-5216-467f-b3f4-0c23afd52f2f",
   "metadata": {},
   "outputs": [],
   "source": [
    "df2.isnull().sum()"
   ]
  },
  {
   "cell_type": "code",
   "execution_count": null,
   "id": "88b2b501-9e15-4852-a7cc-1f61ded49d5f",
   "metadata": {},
   "outputs": [],
   "source": [
    "df2['age'].fillna(method=\"bfill\")"
   ]
  },
  {
   "cell_type": "markdown",
   "id": "9749bd4b-dc90-4721-99c4-a697786ab548",
   "metadata": {},
   "source": [
    "# 9.What is the difference between concat and merge in Pandas?"
   ]
  },
  {
   "cell_type": "code",
   "execution_count": null,
   "id": "8391bba0-7496-41fa-a844-6efd756681ae",
   "metadata": {},
   "outputs": [],
   "source": [
    "# In concat two datasets are combined vertically and horizontally.\n",
    "# In merge two data sets are merged with speceific common columns or index.\n",
    "pd.merge(df1,df2,on=\"EMPID\")"
   ]
  },
  {
   "cell_type": "code",
   "execution_count": null,
   "id": "7c04f3e7-fb57-4012-a2af-07fdf74dd88a",
   "metadata": {},
   "outputs": [],
   "source": [
    "pd.concat([df1,df2])"
   ]
  },
  {
   "cell_type": "markdown",
   "id": "7b653594-6217-4bc4-94e3-e8ded21126ae",
   "metadata": {},
   "source": [
    "# 10.How do you find the mean, median, and mode of a NumPy array?"
   ]
  },
  {
   "cell_type": "code",
   "execution_count": null,
   "id": "d01af206-998a-42dd-ab9d-8c41608fe3c9",
   "metadata": {},
   "outputs": [],
   "source": [
    "from scipy import stats\n",
    "arr = np.array([1, 2, 2, 3, 4, 4, 4, 5, 6])\n",
    "#  mean\n",
    "mean = np.mean(arr)\n",
    "# median\n",
    "median = np.median(arr)\n",
    "#  mode\n",
    "mode = stats.mode(arr)\n",
    "print( arr)\n",
    "print(\"mean\")\n",
    "print( mean)\n",
    "print(\"median\")\n",
    "print( median )\n",
    "print(\"mode\")\n",
    "print( mode)"
   ]
  },
  {
   "cell_type": "markdown",
   "id": "cb3408cb-6821-4813-9cb9-6e7bf0c1006e",
   "metadata": {},
   "source": [
    "# 11.Explain the concept of array slicing in NumPy"
   ]
  },
  {
   "cell_type": "code",
   "execution_count": null,
   "id": "668817eb-c1b2-4c48-8895-abf4561979da",
   "metadata": {},
   "outputs": [],
   "source": [
    "# The process of extraction portion of array, with slicing we can easily acess element in array.\n",
    "\n",
    "a=np.array([[1,2,3],[4,5,6],[7,8,9]])\n",
    "print(a[:2,:2])"
   ]
  },
  {
   "cell_type": "markdown",
   "id": "3f92d6b1-94a2-4b6b-8bb2-918217cca288",
   "metadata": {},
   "source": [
    "# 12.What is Pandas, and what are its key data structures?"
   ]
  },
  {
   "cell_type": "markdown",
   "id": "f124ecd6-522f-4dd3-993d-000d5fab9481",
   "metadata": {},
   "source": [
    "Pandas is a python liberary providing fast and flexible data structure design to make working with relational or lebeled data both easily.\n",
    "\n",
    "## key data structure \n",
    "* Series\n",
    "* DataFrames"
   ]
  },
  {
   "cell_type": "markdown",
   "id": "91e56f75-577d-416b-a56f-1ff5c8f3b8fb",
   "metadata": {},
   "source": [
    "# 13.What is broadcasting in NumPy, and how does it work?"
   ]
  },
  {
   "cell_type": "code",
   "execution_count": null,
   "id": "c4764f47-61bf-42a1-a10e-7db308531e47",
   "metadata": {},
   "outputs": [],
   "source": [
    "# Broadcasting is a feature in numpy that allows arays of different shapes to be used in arthematic operation.\n",
    "# working..\n",
    "# broadcasting in numpy is numpy's ability to stretch and replicate smaller array to match dimension of larger one.\n",
    "\n",
    "# Broadcasting a 1D array with a 2D array\n",
    "a1 = np.array([2, 4, 6])\n",
    "a2 = np.array([[1, 3, 5], [7, 9, 11]])\n",
    "res = a1 + a2\n",
    "print(res)"
   ]
  },
  {
   "cell_type": "markdown",
   "id": "dc5f944f-d75e-4755-b7b2-c6100ae38fa9",
   "metadata": {},
   "source": [
    "# 14.How do you perform element-wise addition, subtraction, multiplication, and  division on NumPy arrays?"
   ]
  },
  {
   "cell_type": "code",
   "execution_count": null,
   "id": "a2281fce-3b76-408c-9e15-122997ebe2b9",
   "metadata": {},
   "outputs": [],
   "source": [
    "# Defining both the matrices\n",
    "a = np.array([5, 72, 13, 100])\n",
    "b = np.array([2, 5, 10, 30])\n",
    " \n",
    "# Performing addition using arithmetic operator\n",
    "add_ans = a+b\n",
    "sub_ans =a-b\n",
    "multi_ans =a*b\n",
    "print(add_ans)\n",
    "print(sub_ans)\n",
    "print(multi_ans)"
   ]
  },
  {
   "cell_type": "markdown",
   "id": "46d578d4-3426-442e-a59b-9d72995ec38c",
   "metadata": {},
   "source": [
    "# 15.You have a DataFrame with a column containing dates. How would you: (a) Convert the date column to a datetime object? (b) Extract the year, month, and day from the dates? (c) Filter the DataFrame to select data from a specific date range?"
   ]
  },
  {
   "cell_type": "code",
   "execution_count": null,
   "id": "7b1af485-ded4-44fa-8381-bff4c10a7371",
   "metadata": {},
   "outputs": [],
   "source": [
    "data = {'dates': ['2023-01-01', '2023-02-15', '2023-03-20', '2023-04-10']}\n",
    "df = pd.DataFrame(data)\n",
    "\n",
    "df['dates'] = pd.to_datetime(df['dates'])\n",
    "\n",
    "df['year'] = df['dates'].dt.year\n",
    "df['month'] = df['dates'].dt.month\n",
    "df['day'] = df['dates'].dt.day\n",
    "\n",
    "start_date = '2023-02-01'\n",
    "end_date = '2023-03-31'\n",
    "\n",
    "filtered_df = df[(df['dates'] >= start_date) & (df['dates'] <= end_date)]\n",
    "\n",
    "# Results\n",
    "print(\"Original DataFrame:\")\n",
    "print(df)\n",
    "\n",
    "print(\"\\nFiltered DataFrame (dates between 2023-02-01 and 2023-03-31):\")\n",
    "print(filtered_df)"
   ]
  },
  {
   "cell_type": "markdown",
   "id": "9e6e94f1-37ca-45bb-8292-a2a076ef61ab",
   "metadata": {},
   "source": [
    "# 16.GroupBy Operation and Aggregation Example?"
   ]
  },
  {
   "cell_type": "code",
   "execution_count": null,
   "id": "727b87f0-6f59-4fcc-8b83-56bf244387e5",
   "metadata": {},
   "outputs": [],
   "source": [
    "# Analyzing sales data for a retail store. The dataset includes information like:\n",
    "# product_category (e.g., Electronics, Clothing, Food)\n",
    "# sales_amount (e.g., total sales in dollars)\n",
    "# store_location (e.g., New York, Chicago, Los Angeles)\n",
    "\n",
    "data = {\n",
    "    'product_category': ['Electronics', 'Clothing', 'Electronics', 'Food', 'Clothing', 'Food'],\n",
    "    'sales_amount': [200, 150, 300, 100, 250, 120],\n",
    "    'store_location': ['New York', 'Chicago', 'Los Angeles', 'New York', 'Chicago', 'Los Angeles']\n",
    "}\n",
    "df = pd.DataFrame(data)\n",
    "grouped = df.groupby('product_category')['sales_amount'].mean()\n",
    "print(\"Average sales for each product category:\")\n",
    "print(grouped)"
   ]
  },
  {
   "cell_type": "markdown",
   "id": "bf5df0c4-aca6-49df-b2c6-a2e8df1cf6af",
   "metadata": {},
   "source": [
    "# 17.How do you group data in a DataFrame and perform aggregations?"
   ]
  },
  {
   "cell_type": "code",
   "execution_count": null,
   "id": "595dfe8a-854c-47f4-9be5-045f265cb733",
   "metadata": {},
   "outputs": [],
   "source": [
    "df2.groupby(\"name\").agg(\n",
    "total_value=(\"salary\",'sum'),\n",
    "  avg_value= (\"salary\",'mean') \n",
    ").reset_index()"
   ]
  },
  {
   "cell_type": "markdown",
   "id": "238c28f5-e8b6-4897-9c12-ef9e13e0e3d4",
   "metadata": {},
   "source": [
    "# 18.You have two DataFrames with some overlapping columns. Describe how you would perform an outer join and explain the significance of an outer join compared to an inner join?"
   ]
  },
  {
   "cell_type": "code",
   "execution_count": null,
   "id": "8e21a8dd-1123-40e9-a0ea-3176aa0632b3",
   "metadata": {},
   "outputs": [],
   "source": [
    "# Sample DataFrames\n",
    "df1 = pd.DataFrame({'A': [1, 2, 3], 'B': [4, 5, 6], 'C': [7, 8, 9]})\n",
    "df2 = pd.DataFrame({'A': [1, 2, 4], 'B': [10, 11, 12], 'D': [13, 14, 15]})\n",
    "\n",
    "# Outer Join\n",
    "merged_df = pd.merge(df1, df2, on='A', how='outer')\n",
    "\n",
    "print(merged_df)\n",
    "\n",
    "#Explanation:\n",
    "# * merge(): This function combines DataFrames based on a common column.\n",
    "# * on='A': Specifies that the join should be performed on column 'A'.\n",
    "# * how='outer': This is the key for an outer join. It includes all rows from both DataFrames, filling in missing values with NaN.\n",
    "\n",
    "# Significance of Outer Join vs. Inner Join.\n",
    "\n",
    "# * Inner Join: Returns only rows where the join condition (matching values in the specified column) is met in both DataFrames.\n",
    "# * Outer Join: Returns all rows from both DataFrames, including those that don't have a match in the other DataFrame.\n",
    "# Missing values are filled with NaN.\n",
    "# When to Use Outer Join:\n",
    "# * When you want to preserve all data from both DataFrames, even if there are no matches in the other DataFrame.\n",
    "# * When you want to identify missing or unmatched data.\n",
    "# * When you need a complete overview of all possible combinations."
   ]
  },
  {
   "cell_type": "markdown",
   "id": "f8646cd0-a393-4aef-9637-6a483a9f85da",
   "metadata": {},
   "source": [
    "# 19.Explain the concept of vectorization in NumPy. How does it improve the performance of numerical computations?"
   ]
  },
  {
   "cell_type": "markdown",
   "id": "b8fd6d8a-db7b-4e5d-989c-7d61a7f6b282",
   "metadata": {},
   "source": [
    "Vectorization in NumPy is a powerful technique that significantly enhances the performance of numerical computations. It involves performing operations on entire arrays or matrices at once, rather than iterating over individual elements using loops. This approach leverages NumPy's underlying C implementation, which is optimized for efficient array operations.\n",
    "Here's how vectorization works and its benefits:\n",
    " * Eliminating Explicit Loops: Instead of writing explicit loops in Python, vectorization allows you to express operations directly on NumPy arrays. NumPy's built-in functions and operators are designed to work with entire arrays, performing the operation on each element simultaneously.\n",
    " * Efficient Memory Management: NumPy arrays are stored in contiguous blocks of memory, which allows for efficient memory access and manipulation. Vectorization takes advantage of this by operating on the entire array in a single operation, reducing the overhead of memory management compared to traditional loops.\n",
    " * Optimized C Implementation: NumPy's core functions are implemented in C, which is a lower-level language known for its performance advantages. By using vectorization, you effectively delegate the computational work to these optimized C routines, resulting in faster execution times.\n",
    " * Readability and Conciseness: Vectorized code is often more concise and easier to read than code that relies heavily on loops. This improves code maintainability and reduces the risk of errors.\n",
    "Here's a simple example to illustrate the concept:"
   ]
  },
  {
   "cell_type": "code",
   "execution_count": null,
   "id": "26d4e1cc-3739-4ddc-b0cc-f3d5847bcd60",
   "metadata": {},
   "outputs": [],
   "source": [
    "# Create a sample NumPy array\n",
    "x = np.array([1, 2, 3, 4, 5])\n",
    "\n",
    "# Square each element using vectorization\n",
    "result_vectorized = x**2\n",
    "\n",
    "print(\"Result using vectorization:\", result_vectorized)\n",
    "\n",
    "# Square each element using a loop\n",
    "result_loop = []\n",
    "for value in x:\n",
    "    result_loop.append(value**2)\n",
    "\n",
    "print(\"Result using loop:\", result_loop)"
   ]
  },
  {
   "cell_type": "markdown",
   "id": "2d11fa63-01b8-4b7f-bac3-b1908375531b",
   "metadata": {},
   "source": [
    "# 20.How do you filter rows in a DataFrame based on conditions?"
   ]
  },
  {
   "cell_type": "code",
   "execution_count": null,
   "id": "828623ac-4e0b-4dc0-a07f-ac3972146be4",
   "metadata": {},
   "outputs": [],
   "source": [
    "### Syntax:\n",
    "\n",
    "# Sample DataFrame\n",
    "data = {'Name': ['Alice', 'Bob', 'Charlie', 'David'],\n",
    "        'Age': [24, 27, 22, 32],\n",
    "        'City': ['New York', 'Los Angeles', 'Chicago', 'Houston']}\n",
    "\n",
    "df = pd.DataFrame(data)\n",
    "\n",
    "# Filter rows where Age is greater than 25\n",
    "filtered_df = df[df['Age'] > 25]\n",
    "print(filtered_df)\n",
    "\n",
    "\n",
    "#1. *Multiple Conditions* (using logical operators & (and), | (or), and ~ (not)):\n",
    "   # Filter rows where Age > 25 and City is 'Houston\n",
    "filtered_df  = df[(df['Age'] > 25) & (df['City'] == 'Houston')]\n",
    "print(filtered_df)\n",
    "\n",
    "#2. *Using isin for multiple matches*:\n",
    " # Filter rows where City is 'Chicago' or 'Houston'\n",
    "filtered_df = df[df['City'].isin(['Chicago', 'Houston'])]\n",
    "print(filtered_df)\n",
    "\n",
    "#3. *Using a custom function*:\n",
    "   # Filter rows using a custom condition\n",
    "filtered_df  = df[df['Name'].apply(lambda x: len(x) > 4)]\n",
    "print(filtered_df)\n",
    "\n",
    "#4. *Dropping rows with NaN values*:\n",
    "filtered_df  = df[df['Age'].notna()]\n",
    "print(filtered_df)"
   ]
  },
  {
   "cell_type": "code",
   "execution_count": null,
   "id": "db2400bf-ab56-4c1c-bb99-fcfe0e814477",
   "metadata": {},
   "outputs": [],
   "source": []
  },
  {
   "cell_type": "code",
   "execution_count": null,
   "id": "24504dd4-b943-4182-ae52-71f78b1507ea",
   "metadata": {},
   "outputs": [],
   "source": []
  }
 ],
 "metadata": {
  "kernelspec": {
   "display_name": "Python [conda env:base] *",
   "language": "python",
   "name": "conda-base-py"
  },
  "language_info": {
   "codemirror_mode": {
    "name": "ipython",
    "version": 3
   },
   "file_extension": ".py",
   "mimetype": "text/x-python",
   "name": "python",
   "nbconvert_exporter": "python",
   "pygments_lexer": "ipython3",
   "version": "3.12.7"
  }
 },
 "nbformat": 4,
 "nbformat_minor": 5
}
