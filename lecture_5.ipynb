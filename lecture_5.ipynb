{
 "cells": [
  {
   "cell_type": "code",
   "execution_count": 3,
   "id": "2a18dc55-dff2-4c47-8b49-323db1b2889c",
   "metadata": {},
   "outputs": [],
   "source": [
    "import pandas as pd"
   ]
  },
  {
   "cell_type": "code",
   "execution_count": 5,
   "id": "d6278709-0b56-46ff-b2b4-09c5c1e4c71a",
   "metadata": {},
   "outputs": [],
   "source": [
    "data={\"name\":[\"kazim\",\"umer\",\"ali\",\"ahmed\",\"atif\",\"tayyab\",\"kashif\",\"asad\",\"tariq\",\"qamar\"],\n",
    "      \"last_name\":[\"khan\",\"tanveer\",\"amjd\",\"umer\",\"safeer\",\"asad\",\"tariq\",\"kashif\",\"hatim\",\"john\"],\n",
    "      \"age\":[20,22,23,23,24,25,26,30,31,32],\n",
    "      \"department\":[\"cs\",\"se\",\"ds\",\"it\",\"bba\",\"d_form\",\"bs_maths\",\"law\",\"english\",\"stats\"]}"
   ]
  },
  {
   "cell_type": "code",
   "execution_count": 7,
   "id": "eaf483f7-1032-4a2a-98ef-24d7dd6af2f9",
   "metadata": {},
   "outputs": [],
   "source": [
    "df=pd.DataFrame(data)"
   ]
  },
  {
   "cell_type": "code",
   "execution_count": 9,
   "id": "c68b3d5e-a3eb-4eab-9355-78470b1cf3ec",
   "metadata": {},
   "outputs": [
    {
     "data": {
      "text/html": [
       "<div>\n",
       "<style scoped>\n",
       "    .dataframe tbody tr th:only-of-type {\n",
       "        vertical-align: middle;\n",
       "    }\n",
       "\n",
       "    .dataframe tbody tr th {\n",
       "        vertical-align: top;\n",
       "    }\n",
       "\n",
       "    .dataframe thead th {\n",
       "        text-align: right;\n",
       "    }\n",
       "</style>\n",
       "<table border=\"1\" class=\"dataframe\">\n",
       "  <thead>\n",
       "    <tr style=\"text-align: right;\">\n",
       "      <th></th>\n",
       "      <th>name</th>\n",
       "      <th>last_name</th>\n",
       "      <th>age</th>\n",
       "      <th>department</th>\n",
       "    </tr>\n",
       "  </thead>\n",
       "  <tbody>\n",
       "    <tr>\n",
       "      <th>0</th>\n",
       "      <td>kazim</td>\n",
       "      <td>khan</td>\n",
       "      <td>20</td>\n",
       "      <td>cs</td>\n",
       "    </tr>\n",
       "    <tr>\n",
       "      <th>1</th>\n",
       "      <td>umer</td>\n",
       "      <td>tanveer</td>\n",
       "      <td>22</td>\n",
       "      <td>se</td>\n",
       "    </tr>\n",
       "    <tr>\n",
       "      <th>2</th>\n",
       "      <td>ali</td>\n",
       "      <td>amjd</td>\n",
       "      <td>23</td>\n",
       "      <td>ds</td>\n",
       "    </tr>\n",
       "    <tr>\n",
       "      <th>3</th>\n",
       "      <td>ahmed</td>\n",
       "      <td>umer</td>\n",
       "      <td>23</td>\n",
       "      <td>it</td>\n",
       "    </tr>\n",
       "    <tr>\n",
       "      <th>4</th>\n",
       "      <td>atif</td>\n",
       "      <td>safeer</td>\n",
       "      <td>24</td>\n",
       "      <td>bba</td>\n",
       "    </tr>\n",
       "  </tbody>\n",
       "</table>\n",
       "</div>"
      ],
      "text/plain": [
       "    name last_name  age department\n",
       "0  kazim      khan   20         cs\n",
       "1   umer   tanveer   22         se\n",
       "2    ali      amjd   23         ds\n",
       "3  ahmed      umer   23         it\n",
       "4   atif    safeer   24        bba"
      ]
     },
     "execution_count": 9,
     "metadata": {},
     "output_type": "execute_result"
    }
   ],
   "source": [
    "df.head()"
   ]
  },
  {
   "cell_type": "code",
   "execution_count": 10,
   "id": "ac1a7a7a-74b2-4aa4-8e75-0e6e26e8f8a7",
   "metadata": {},
   "outputs": [
    {
     "data": {
      "text/html": [
       "<div>\n",
       "<style scoped>\n",
       "    .dataframe tbody tr th:only-of-type {\n",
       "        vertical-align: middle;\n",
       "    }\n",
       "\n",
       "    .dataframe tbody tr th {\n",
       "        vertical-align: top;\n",
       "    }\n",
       "\n",
       "    .dataframe thead th {\n",
       "        text-align: right;\n",
       "    }\n",
       "</style>\n",
       "<table border=\"1\" class=\"dataframe\">\n",
       "  <thead>\n",
       "    <tr style=\"text-align: right;\">\n",
       "      <th></th>\n",
       "      <th>name</th>\n",
       "      <th>last_name</th>\n",
       "      <th>age</th>\n",
       "      <th>department</th>\n",
       "    </tr>\n",
       "  </thead>\n",
       "  <tbody>\n",
       "    <tr>\n",
       "      <th>0</th>\n",
       "      <td>kazim</td>\n",
       "      <td>khan</td>\n",
       "      <td>20</td>\n",
       "      <td>cs</td>\n",
       "    </tr>\n",
       "    <tr>\n",
       "      <th>1</th>\n",
       "      <td>umer</td>\n",
       "      <td>tanveer</td>\n",
       "      <td>22</td>\n",
       "      <td>se</td>\n",
       "    </tr>\n",
       "    <tr>\n",
       "      <th>2</th>\n",
       "      <td>ali</td>\n",
       "      <td>amjd</td>\n",
       "      <td>23</td>\n",
       "      <td>ds</td>\n",
       "    </tr>\n",
       "    <tr>\n",
       "      <th>3</th>\n",
       "      <td>ahmed</td>\n",
       "      <td>umer</td>\n",
       "      <td>23</td>\n",
       "      <td>it</td>\n",
       "    </tr>\n",
       "    <tr>\n",
       "      <th>4</th>\n",
       "      <td>atif</td>\n",
       "      <td>safeer</td>\n",
       "      <td>24</td>\n",
       "      <td>bba</td>\n",
       "    </tr>\n",
       "    <tr>\n",
       "      <th>5</th>\n",
       "      <td>tayyab</td>\n",
       "      <td>asad</td>\n",
       "      <td>25</td>\n",
       "      <td>d_form</td>\n",
       "    </tr>\n",
       "    <tr>\n",
       "      <th>6</th>\n",
       "      <td>kashif</td>\n",
       "      <td>tariq</td>\n",
       "      <td>26</td>\n",
       "      <td>bs_maths</td>\n",
       "    </tr>\n",
       "    <tr>\n",
       "      <th>7</th>\n",
       "      <td>asad</td>\n",
       "      <td>kashif</td>\n",
       "      <td>30</td>\n",
       "      <td>law</td>\n",
       "    </tr>\n",
       "    <tr>\n",
       "      <th>8</th>\n",
       "      <td>tariq</td>\n",
       "      <td>hatim</td>\n",
       "      <td>31</td>\n",
       "      <td>english</td>\n",
       "    </tr>\n",
       "    <tr>\n",
       "      <th>9</th>\n",
       "      <td>qamar</td>\n",
       "      <td>john</td>\n",
       "      <td>32</td>\n",
       "      <td>stats</td>\n",
       "    </tr>\n",
       "  </tbody>\n",
       "</table>\n",
       "</div>"
      ],
      "text/plain": [
       "     name last_name  age department\n",
       "0   kazim      khan   20         cs\n",
       "1    umer   tanveer   22         se\n",
       "2     ali      amjd   23         ds\n",
       "3   ahmed      umer   23         it\n",
       "4    atif    safeer   24        bba\n",
       "5  tayyab      asad   25     d_form\n",
       "6  kashif     tariq   26   bs_maths\n",
       "7    asad    kashif   30        law\n",
       "8   tariq     hatim   31    english\n",
       "9   qamar      john   32      stats"
      ]
     },
     "execution_count": 10,
     "metadata": {},
     "output_type": "execute_result"
    }
   ],
   "source": [
    "df.head(10)"
   ]
  },
  {
   "cell_type": "code",
   "execution_count": 13,
   "id": "98ecebd1-321d-45e8-b984-8edb9746d99a",
   "metadata": {},
   "outputs": [
    {
     "data": {
      "text/plain": [
       "0     KAZIM\n",
       "1      UMER\n",
       "2       ALI\n",
       "3     AHMED\n",
       "4      ATIF\n",
       "5    TAYYAB\n",
       "6    KASHIF\n",
       "7      ASAD\n",
       "8     TARIQ\n",
       "9     QAMAR\n",
       "Name: name, dtype: object"
      ]
     },
     "execution_count": 13,
     "metadata": {},
     "output_type": "execute_result"
    }
   ],
   "source": [
    "df[\"name\"].str.upper()"
   ]
  },
  {
   "cell_type": "code",
   "execution_count": 15,
   "id": "af89052b-afbc-44b8-8669-12afef0e748f",
   "metadata": {},
   "outputs": [
    {
     "data": {
      "text/plain": [
       "0     Kazim\n",
       "1      Umer\n",
       "2       Ali\n",
       "3     Ahmed\n",
       "4      Atif\n",
       "5    Tayyab\n",
       "6    Kashif\n",
       "7      Asad\n",
       "8     Tariq\n",
       "9     Qamar\n",
       "Name: name, dtype: object"
      ]
     },
     "execution_count": 15,
     "metadata": {},
     "output_type": "execute_result"
    }
   ],
   "source": [
    "df[\"name\"].str.capitalize()"
   ]
  },
  {
   "cell_type": "code",
   "execution_count": 16,
   "id": "f11fc078-0c5b-4d43-8349-2f2b9c4f2f2b",
   "metadata": {},
   "outputs": [
    {
     "data": {
      "text/plain": [
       "0          Cs\n",
       "1          Se\n",
       "2          Ds\n",
       "3          It\n",
       "4         Bba\n",
       "5      D_form\n",
       "6    Bs_maths\n",
       "7         Law\n",
       "8     English\n",
       "9       Stats\n",
       "Name: department, dtype: object"
      ]
     },
     "execution_count": 16,
     "metadata": {},
     "output_type": "execute_result"
    }
   ],
   "source": [
    "df[\"department\"].str.capitalize()"
   ]
  },
  {
   "cell_type": "code",
   "execution_count": 19,
   "id": "7219de31-afee-4bae-b4a4-22612e8ab17b",
   "metadata": {},
   "outputs": [
    {
     "data": {
      "text/plain": [
       "0          CS\n",
       "1          SE\n",
       "2          DS\n",
       "3          IT\n",
       "4         BBA\n",
       "5      D_FORM\n",
       "6    BS_MATHS\n",
       "7         LAW\n",
       "8     ENGLISH\n",
       "9       STATS\n",
       "Name: department, dtype: object"
      ]
     },
     "execution_count": 19,
     "metadata": {},
     "output_type": "execute_result"
    }
   ],
   "source": [
    "df[\"department\"].str.upper()"
   ]
  },
  {
   "cell_type": "code",
   "execution_count": 50,
   "id": "393b2a68-aef6-4493-89b2-23c28f3da2a4",
   "metadata": {},
   "outputs": [
    {
     "data": {
      "text/html": [
       "<div>\n",
       "<style scoped>\n",
       "    .dataframe tbody tr th:only-of-type {\n",
       "        vertical-align: middle;\n",
       "    }\n",
       "\n",
       "    .dataframe tbody tr th {\n",
       "        vertical-align: top;\n",
       "    }\n",
       "\n",
       "    .dataframe thead th {\n",
       "        text-align: right;\n",
       "    }\n",
       "</style>\n",
       "<table border=\"1\" class=\"dataframe\">\n",
       "  <thead>\n",
       "    <tr style=\"text-align: right;\">\n",
       "      <th></th>\n",
       "      <th>last_name</th>\n",
       "      <th>age</th>\n",
       "      <th>department</th>\n",
       "    </tr>\n",
       "  </thead>\n",
       "  <tbody>\n",
       "    <tr>\n",
       "      <th>c</th>\n",
       "      <td>amjd</td>\n",
       "      <td>23</td>\n",
       "      <td>ds</td>\n",
       "    </tr>\n",
       "    <tr>\n",
       "      <th>d</th>\n",
       "      <td>umer</td>\n",
       "      <td>23</td>\n",
       "      <td>it</td>\n",
       "    </tr>\n",
       "    <tr>\n",
       "      <th>e</th>\n",
       "      <td>safeer</td>\n",
       "      <td>24</td>\n",
       "      <td>bba</td>\n",
       "    </tr>\n",
       "    <tr>\n",
       "      <th>f</th>\n",
       "      <td>asad</td>\n",
       "      <td>25</td>\n",
       "      <td>d_form</td>\n",
       "    </tr>\n",
       "  </tbody>\n",
       "</table>\n",
       "</div>"
      ],
      "text/plain": [
       "  last_name  age department\n",
       "c      amjd   23         ds\n",
       "d      umer   23         it\n",
       "e    safeer   24        bba\n",
       "f      asad   25     d_form"
      ]
     },
     "execution_count": 50,
     "metadata": {},
     "output_type": "execute_result"
    }
   ],
   "source": [
    "df.iloc[2:6,1:-1]"
   ]
  },
  {
   "cell_type": "code",
   "execution_count": 22,
   "id": "895289ad-5c7a-438c-b96a-1475b018555b",
   "metadata": {},
   "outputs": [
    {
     "data": {
      "text/html": [
       "<div>\n",
       "<style scoped>\n",
       "    .dataframe tbody tr th:only-of-type {\n",
       "        vertical-align: middle;\n",
       "    }\n",
       "\n",
       "    .dataframe tbody tr th {\n",
       "        vertical-align: top;\n",
       "    }\n",
       "\n",
       "    .dataframe thead th {\n",
       "        text-align: right;\n",
       "    }\n",
       "</style>\n",
       "<table border=\"1\" class=\"dataframe\">\n",
       "  <thead>\n",
       "    <tr style=\"text-align: right;\">\n",
       "      <th></th>\n",
       "      <th>last_name</th>\n",
       "      <th>department</th>\n",
       "    </tr>\n",
       "  </thead>\n",
       "  <tbody>\n",
       "    <tr>\n",
       "      <th>2</th>\n",
       "      <td>amjd</td>\n",
       "      <td>ds</td>\n",
       "    </tr>\n",
       "    <tr>\n",
       "      <th>6</th>\n",
       "      <td>tariq</td>\n",
       "      <td>bs_maths</td>\n",
       "    </tr>\n",
       "  </tbody>\n",
       "</table>\n",
       "</div>"
      ],
      "text/plain": [
       "  last_name department\n",
       "2      amjd         ds\n",
       "6     tariq   bs_maths"
      ]
     },
     "execution_count": 22,
     "metadata": {},
     "output_type": "execute_result"
    }
   ],
   "source": [
    "df.iloc[[2,6],[1,3]]"
   ]
  },
  {
   "cell_type": "code",
   "execution_count": 25,
   "id": "75f5b619-27c1-43e9-beb5-55e4198bda68",
   "metadata": {},
   "outputs": [
    {
     "data": {
      "text/html": [
       "<div>\n",
       "<style scoped>\n",
       "    .dataframe tbody tr th:only-of-type {\n",
       "        vertical-align: middle;\n",
       "    }\n",
       "\n",
       "    .dataframe tbody tr th {\n",
       "        vertical-align: top;\n",
       "    }\n",
       "\n",
       "    .dataframe thead th {\n",
       "        text-align: right;\n",
       "    }\n",
       "</style>\n",
       "<table border=\"1\" class=\"dataframe\">\n",
       "  <thead>\n",
       "    <tr style=\"text-align: right;\">\n",
       "      <th></th>\n",
       "      <th>last_name</th>\n",
       "      <th>age</th>\n",
       "    </tr>\n",
       "  </thead>\n",
       "  <tbody>\n",
       "    <tr>\n",
       "      <th>1</th>\n",
       "      <td>tanveer</td>\n",
       "      <td>22</td>\n",
       "    </tr>\n",
       "    <tr>\n",
       "      <th>9</th>\n",
       "      <td>john</td>\n",
       "      <td>32</td>\n",
       "    </tr>\n",
       "  </tbody>\n",
       "</table>\n",
       "</div>"
      ],
      "text/plain": [
       "  last_name  age\n",
       "1   tanveer   22\n",
       "9      john   32"
      ]
     },
     "execution_count": 25,
     "metadata": {},
     "output_type": "execute_result"
    }
   ],
   "source": [
    "df.iloc[[1,-1],[1,2]]"
   ]
  },
  {
   "cell_type": "code",
   "execution_count": 27,
   "id": "8c0e2191-5d2d-4f2b-985f-cad63ccbdb4c",
   "metadata": {},
   "outputs": [],
   "source": [
    "df[\"full_name\"]=df[\"name\"]+df[\"last_name\"]"
   ]
  },
  {
   "cell_type": "code",
   "execution_count": 29,
   "id": "82e01a4f-aac4-40e5-b612-43433ce2a9c0",
   "metadata": {},
   "outputs": [
    {
     "data": {
      "text/html": [
       "<div>\n",
       "<style scoped>\n",
       "    .dataframe tbody tr th:only-of-type {\n",
       "        vertical-align: middle;\n",
       "    }\n",
       "\n",
       "    .dataframe tbody tr th {\n",
       "        vertical-align: top;\n",
       "    }\n",
       "\n",
       "    .dataframe thead th {\n",
       "        text-align: right;\n",
       "    }\n",
       "</style>\n",
       "<table border=\"1\" class=\"dataframe\">\n",
       "  <thead>\n",
       "    <tr style=\"text-align: right;\">\n",
       "      <th></th>\n",
       "      <th>name</th>\n",
       "      <th>last_name</th>\n",
       "      <th>age</th>\n",
       "      <th>department</th>\n",
       "      <th>full_name</th>\n",
       "    </tr>\n",
       "  </thead>\n",
       "  <tbody>\n",
       "    <tr>\n",
       "      <th>0</th>\n",
       "      <td>kazim</td>\n",
       "      <td>khan</td>\n",
       "      <td>20</td>\n",
       "      <td>cs</td>\n",
       "      <td>kazimkhan</td>\n",
       "    </tr>\n",
       "    <tr>\n",
       "      <th>1</th>\n",
       "      <td>umer</td>\n",
       "      <td>tanveer</td>\n",
       "      <td>22</td>\n",
       "      <td>se</td>\n",
       "      <td>umertanveer</td>\n",
       "    </tr>\n",
       "    <tr>\n",
       "      <th>2</th>\n",
       "      <td>ali</td>\n",
       "      <td>amjd</td>\n",
       "      <td>23</td>\n",
       "      <td>ds</td>\n",
       "      <td>aliamjd</td>\n",
       "    </tr>\n",
       "    <tr>\n",
       "      <th>3</th>\n",
       "      <td>ahmed</td>\n",
       "      <td>umer</td>\n",
       "      <td>23</td>\n",
       "      <td>it</td>\n",
       "      <td>ahmedumer</td>\n",
       "    </tr>\n",
       "    <tr>\n",
       "      <th>4</th>\n",
       "      <td>atif</td>\n",
       "      <td>safeer</td>\n",
       "      <td>24</td>\n",
       "      <td>bba</td>\n",
       "      <td>atifsafeer</td>\n",
       "    </tr>\n",
       "  </tbody>\n",
       "</table>\n",
       "</div>"
      ],
      "text/plain": [
       "    name last_name  age department    full_name\n",
       "0  kazim      khan   20         cs    kazimkhan\n",
       "1   umer   tanveer   22         se  umertanveer\n",
       "2    ali      amjd   23         ds      aliamjd\n",
       "3  ahmed      umer   23         it    ahmedumer\n",
       "4   atif    safeer   24        bba   atifsafeer"
      ]
     },
     "execution_count": 29,
     "metadata": {},
     "output_type": "execute_result"
    }
   ],
   "source": [
    "df.head()"
   ]
  },
  {
   "cell_type": "code",
   "execution_count": 31,
   "id": "2d9fc3a0-dced-42f9-8538-23693726fc01",
   "metadata": {},
   "outputs": [],
   "source": [
    "df[\"full_name\"]=df[\"name\"]+\" \"+df[\"last_name\"]"
   ]
  },
  {
   "cell_type": "code",
   "execution_count": 33,
   "id": "fdd4bff6-d5d9-4712-a857-00a84ed46bf4",
   "metadata": {},
   "outputs": [
    {
     "data": {
      "text/html": [
       "<div>\n",
       "<style scoped>\n",
       "    .dataframe tbody tr th:only-of-type {\n",
       "        vertical-align: middle;\n",
       "    }\n",
       "\n",
       "    .dataframe tbody tr th {\n",
       "        vertical-align: top;\n",
       "    }\n",
       "\n",
       "    .dataframe thead th {\n",
       "        text-align: right;\n",
       "    }\n",
       "</style>\n",
       "<table border=\"1\" class=\"dataframe\">\n",
       "  <thead>\n",
       "    <tr style=\"text-align: right;\">\n",
       "      <th></th>\n",
       "      <th>name</th>\n",
       "      <th>last_name</th>\n",
       "      <th>age</th>\n",
       "      <th>department</th>\n",
       "      <th>full_name</th>\n",
       "    </tr>\n",
       "  </thead>\n",
       "  <tbody>\n",
       "    <tr>\n",
       "      <th>0</th>\n",
       "      <td>kazim</td>\n",
       "      <td>khan</td>\n",
       "      <td>20</td>\n",
       "      <td>cs</td>\n",
       "      <td>kazim khan</td>\n",
       "    </tr>\n",
       "    <tr>\n",
       "      <th>1</th>\n",
       "      <td>umer</td>\n",
       "      <td>tanveer</td>\n",
       "      <td>22</td>\n",
       "      <td>se</td>\n",
       "      <td>umer tanveer</td>\n",
       "    </tr>\n",
       "    <tr>\n",
       "      <th>2</th>\n",
       "      <td>ali</td>\n",
       "      <td>amjd</td>\n",
       "      <td>23</td>\n",
       "      <td>ds</td>\n",
       "      <td>ali amjd</td>\n",
       "    </tr>\n",
       "    <tr>\n",
       "      <th>3</th>\n",
       "      <td>ahmed</td>\n",
       "      <td>umer</td>\n",
       "      <td>23</td>\n",
       "      <td>it</td>\n",
       "      <td>ahmed umer</td>\n",
       "    </tr>\n",
       "    <tr>\n",
       "      <th>4</th>\n",
       "      <td>atif</td>\n",
       "      <td>safeer</td>\n",
       "      <td>24</td>\n",
       "      <td>bba</td>\n",
       "      <td>atif safeer</td>\n",
       "    </tr>\n",
       "  </tbody>\n",
       "</table>\n",
       "</div>"
      ],
      "text/plain": [
       "    name last_name  age department     full_name\n",
       "0  kazim      khan   20         cs    kazim khan\n",
       "1   umer   tanveer   22         se  umer tanveer\n",
       "2    ali      amjd   23         ds      ali amjd\n",
       "3  ahmed      umer   23         it    ahmed umer\n",
       "4   atif    safeer   24        bba   atif safeer"
      ]
     },
     "execution_count": 33,
     "metadata": {},
     "output_type": "execute_result"
    }
   ],
   "source": [
    "df.head()"
   ]
  },
  {
   "cell_type": "code",
   "execution_count": 35,
   "id": "31085582-1d24-41f2-b7ea-df1268b5848f",
   "metadata": {},
   "outputs": [],
   "source": [
    "df[\"full_name\"]=df[\"name\"].str.capitalize()+\" \"+df[\"last_name\"].str.capitalize()"
   ]
  },
  {
   "cell_type": "code",
   "execution_count": 37,
   "id": "6cab868f-9c40-485e-9648-d96705abc299",
   "metadata": {},
   "outputs": [
    {
     "data": {
      "text/html": [
       "<div>\n",
       "<style scoped>\n",
       "    .dataframe tbody tr th:only-of-type {\n",
       "        vertical-align: middle;\n",
       "    }\n",
       "\n",
       "    .dataframe tbody tr th {\n",
       "        vertical-align: top;\n",
       "    }\n",
       "\n",
       "    .dataframe thead th {\n",
       "        text-align: right;\n",
       "    }\n",
       "</style>\n",
       "<table border=\"1\" class=\"dataframe\">\n",
       "  <thead>\n",
       "    <tr style=\"text-align: right;\">\n",
       "      <th></th>\n",
       "      <th>name</th>\n",
       "      <th>last_name</th>\n",
       "      <th>age</th>\n",
       "      <th>department</th>\n",
       "      <th>full_name</th>\n",
       "    </tr>\n",
       "  </thead>\n",
       "  <tbody>\n",
       "    <tr>\n",
       "      <th>0</th>\n",
       "      <td>kazim</td>\n",
       "      <td>khan</td>\n",
       "      <td>20</td>\n",
       "      <td>cs</td>\n",
       "      <td>Kazim Khan</td>\n",
       "    </tr>\n",
       "    <tr>\n",
       "      <th>1</th>\n",
       "      <td>umer</td>\n",
       "      <td>tanveer</td>\n",
       "      <td>22</td>\n",
       "      <td>se</td>\n",
       "      <td>Umer Tanveer</td>\n",
       "    </tr>\n",
       "    <tr>\n",
       "      <th>2</th>\n",
       "      <td>ali</td>\n",
       "      <td>amjd</td>\n",
       "      <td>23</td>\n",
       "      <td>ds</td>\n",
       "      <td>Ali Amjd</td>\n",
       "    </tr>\n",
       "    <tr>\n",
       "      <th>3</th>\n",
       "      <td>ahmed</td>\n",
       "      <td>umer</td>\n",
       "      <td>23</td>\n",
       "      <td>it</td>\n",
       "      <td>Ahmed Umer</td>\n",
       "    </tr>\n",
       "    <tr>\n",
       "      <th>4</th>\n",
       "      <td>atif</td>\n",
       "      <td>safeer</td>\n",
       "      <td>24</td>\n",
       "      <td>bba</td>\n",
       "      <td>Atif Safeer</td>\n",
       "    </tr>\n",
       "  </tbody>\n",
       "</table>\n",
       "</div>"
      ],
      "text/plain": [
       "    name last_name  age department     full_name\n",
       "0  kazim      khan   20         cs    Kazim Khan\n",
       "1   umer   tanveer   22         se  Umer Tanveer\n",
       "2    ali      amjd   23         ds      Ali Amjd\n",
       "3  ahmed      umer   23         it    Ahmed Umer\n",
       "4   atif    safeer   24        bba   Atif Safeer"
      ]
     },
     "execution_count": 37,
     "metadata": {},
     "output_type": "execute_result"
    }
   ],
   "source": [
    "df.head()"
   ]
  },
  {
   "cell_type": "code",
   "execution_count": 39,
   "id": "0e0c0b8d-c06a-4417-a132-cd486ea917a2",
   "metadata": {},
   "outputs": [
    {
     "name": "stdout",
     "output_type": "stream",
     "text": [
      "     name last_name  age department     full_name\n",
      "a   kazim      khan   20         cs    Kazim Khan\n",
      "b    umer   tanveer   22         se  Umer Tanveer\n",
      "c     ali      amjd   23         ds      Ali Amjd\n",
      "d   ahmed      umer   23         it    Ahmed Umer\n",
      "e    atif    safeer   24        bba   Atif Safeer\n",
      "f  tayyab      asad   25     d_form   Tayyab Asad\n",
      "i  kashif     tariq   26   bs_maths  Kashif Tariq\n",
      "k    asad    kashif   30        law   Asad Kashif\n",
      "s   tariq     hatim   31    english   Tariq Hatim\n",
      "l   qamar      john   32      stats    Qamar John\n"
     ]
    }
   ],
   "source": [
    "data={\"name\":[\"kazim\",\"umer\",\"ali\",\"ahmed\",\"atif\",\"tayyab\",\"kashif\",\"asad\",\"tariq\",\"qamar\"],\n",
    "      \"last_name\":[\"khan\",\"tanveer\",\"amjd\",\"umer\",\"safeer\",\"asad\",\"tariq\",\"kashif\",\"hatim\",\"john\"],\n",
    "      \"age\":[20,22,23,23,24,25,26,30,31,32],\n",
    "      \"department\":[\"cs\",\"se\",\"ds\",\"it\",\"bba\",\"d_form\",\"bs_maths\",\"law\",\"english\",\"stats\"]}\n",
    "row=[\"a\",\"b\",\"c\",\"d\",\"e\",\"f\",\"i\",\"k\",\"s\",\"l\"]\n",
    "df.index=row\n",
    "print(df)"
   ]
  },
  {
   "cell_type": "code",
   "execution_count": 41,
   "id": "58e74ee2-be1f-4715-93e5-3e20b28d8ca1",
   "metadata": {},
   "outputs": [
    {
     "data": {
      "text/plain": [
       "24"
      ]
     },
     "execution_count": 41,
     "metadata": {},
     "output_type": "execute_result"
    }
   ],
   "source": [
    "df.loc[\"e\",\"age\"]"
   ]
  },
  {
   "cell_type": "code",
   "execution_count": 43,
   "id": "3ae82915-1b6f-4b6c-be6f-938304030571",
   "metadata": {},
   "outputs": [
    {
     "data": {
      "text/plain": [
       "'Kashif Tariq'"
      ]
     },
     "execution_count": 43,
     "metadata": {},
     "output_type": "execute_result"
    }
   ],
   "source": [
    "df.loc[\"i\",\"full_name\"]"
   ]
  },
  {
   "cell_type": "code",
   "execution_count": 45,
   "id": "3bd49ff2-1d08-4878-92cd-89129aa777da",
   "metadata": {},
   "outputs": [
    {
     "name": "stdout",
     "output_type": "stream",
     "text": [
      "enfffjsd\n"
     ]
    }
   ],
   "source": [
    "print(\"enfffjsd\")\n"
   ]
  },
  {
   "cell_type": "code",
   "execution_count": null,
   "id": "384b1629-f809-4004-8dad-07eaf112ed1a",
   "metadata": {},
   "outputs": [],
   "source": []
  },
  {
   "cell_type": "code",
   "execution_count": null,
   "id": "f4548a94-cab6-4d19-8742-b1b97caed9a1",
   "metadata": {},
   "outputs": [],
   "source": []
  },
  {
   "cell_type": "code",
   "execution_count": null,
   "id": "aaf06ad1-b3e5-4964-bac9-7a457cc8f923",
   "metadata": {},
   "outputs": [],
   "source": []
  },
  {
   "cell_type": "code",
   "execution_count": null,
   "id": "7ae05c32-165a-4f49-9e99-1394e77a3749",
   "metadata": {},
   "outputs": [],
   "source": []
  }
 ],
 "metadata": {
  "kernelspec": {
   "display_name": "Python [conda env:base] *",
   "language": "python",
   "name": "conda-base-py"
  },
  "language_info": {
   "codemirror_mode": {
    "name": "ipython",
    "version": 3
   },
   "file_extension": ".py",
   "mimetype": "text/x-python",
   "name": "python",
   "nbconvert_exporter": "python",
   "pygments_lexer": "ipython3",
   "version": "3.12.7"
  }
 },
 "nbformat": 4,
 "nbformat_minor": 5
}
