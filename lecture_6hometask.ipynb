{
 "cells": [
  {
   "cell_type": "code",
   "execution_count": 124,
   "id": "80a23b7b-8717-41d5-abdf-737e263dc72c",
   "metadata": {},
   "outputs": [],
   "source": [
    "import pandas as pd"
   ]
  },
  {
   "cell_type": "code",
   "execution_count": 126,
   "id": "56bf71ad-e15f-4259-8814-856eb5b3f4e6",
   "metadata": {},
   "outputs": [],
   "source": [
    "import numpy as np"
   ]
  },
  {
   "cell_type": "code",
   "execution_count": 128,
   "id": "bc5d6c86-5cef-481f-8c53-96b7ef88abd8",
   "metadata": {},
   "outputs": [],
   "source": [
    "data1={\"EMPID\":[\"E01\",\"E02\",\"E03\",\"E04\",\"E05\"],\n",
    "    \"name\":[None,\"umer\",\"ali\",\"ahmed\",None],\n",
    "      \"last_name\":[\"khan\",\"tanveer\",\"amjd\",\"umer\",\"safeer\"],\n",
    "      \"age\":[20,23,None,24,None],\n",
    "      \"department\":[\"cs\",\"se\",\"ds\",\"it\",\"bba\"]}"
   ]
  },
  {
   "cell_type": "code",
   "execution_count": 129,
   "id": "787f3e2b-2355-44f6-9994-3c00db9ed916",
   "metadata": {},
   "outputs": [],
   "source": [
    "df1=pd.DataFrame(data1)"
   ]
  },
  {
   "cell_type": "code",
   "execution_count": 130,
   "id": "9d56bff0-e047-4cec-a225-8a53381f5747",
   "metadata": {},
   "outputs": [
    {
     "name": "stdout",
     "output_type": "stream",
     "text": [
      "  EMPID   name last_name   age department\n",
      "0   E01   None      khan  20.0         cs\n",
      "1   E02   umer   tanveer  23.0         se\n",
      "2   E03    ali      amjd   NaN         ds\n",
      "3   E04  ahmed      umer  24.0         it\n",
      "4   E05   None    safeer   NaN        bba\n"
     ]
    }
   ],
   "source": [
    "print(df1)"
   ]
  },
  {
   "cell_type": "code",
   "execution_count": 133,
   "id": "2924dc5d-67f3-4574-93f6-75fa35c1496e",
   "metadata": {},
   "outputs": [],
   "source": [
    "data2={\"EMPID\":[\"E01\",\"E02\",\"E03\",\"E04\",\"E06\"],\n",
    "    \"name\":[\"tayyab\",\"kashif\",\"asad\",\"tariq\",\"qamar\"],\n",
    "      \"last_name\":[\"asad\",\"tariq\",\"kashif\",\"hatim\",\"john\"],\n",
    "       \"salary\":[1000,2000,3000,4000,5000],\n",
    "      \"age\":[20,22,23,None,24],\n",
    "      \"department\":[\"d_form\",\"bs_maths\",\"law\",\"english\",\"stats\"]}"
   ]
  },
  {
   "cell_type": "code",
   "execution_count": 136,
   "id": "57bff82f-94e8-42cc-aac1-6cc614af6fcd",
   "metadata": {},
   "outputs": [],
   "source": [
    "df2=pd.DataFrame(data2)"
   ]
  },
  {
   "cell_type": "code",
   "execution_count": 138,
   "id": "59d20c6e-722a-4921-ace0-9765211f9d5b",
   "metadata": {},
   "outputs": [
    {
     "name": "stdout",
     "output_type": "stream",
     "text": [
      "  EMPID    name last_name  salary   age department\n",
      "0   E01  tayyab      asad    1000  20.0     d_form\n",
      "1   E02  kashif     tariq    2000  22.0   bs_maths\n",
      "2   E03    asad    kashif    3000  23.0        law\n",
      "3   E04   tariq     hatim    4000   NaN    english\n",
      "4   E06   qamar      john    5000  24.0      stats\n"
     ]
    }
   ],
   "source": [
    "print(df2)"
   ]
  },
  {
   "cell_type": "code",
   "execution_count": 139,
   "id": "556b150e-3610-4ef2-a3e7-56b924681074",
   "metadata": {},
   "outputs": [
    {
     "data": {
      "text/html": [
       "<div>\n",
       "<style scoped>\n",
       "    .dataframe tbody tr th:only-of-type {\n",
       "        vertical-align: middle;\n",
       "    }\n",
       "\n",
       "    .dataframe tbody tr th {\n",
       "        vertical-align: top;\n",
       "    }\n",
       "\n",
       "    .dataframe thead th {\n",
       "        text-align: right;\n",
       "    }\n",
       "</style>\n",
       "<table border=\"1\" class=\"dataframe\">\n",
       "  <thead>\n",
       "    <tr style=\"text-align: right;\">\n",
       "      <th></th>\n",
       "      <th>EMPID</th>\n",
       "      <th>name_x</th>\n",
       "      <th>last_name_x</th>\n",
       "      <th>age_x</th>\n",
       "      <th>department_x</th>\n",
       "      <th>name_y</th>\n",
       "      <th>last_name_y</th>\n",
       "      <th>salary</th>\n",
       "      <th>age_y</th>\n",
       "      <th>department_y</th>\n",
       "    </tr>\n",
       "  </thead>\n",
       "  <tbody>\n",
       "    <tr>\n",
       "      <th>0</th>\n",
       "      <td>E01</td>\n",
       "      <td>None</td>\n",
       "      <td>khan</td>\n",
       "      <td>20.0</td>\n",
       "      <td>cs</td>\n",
       "      <td>tayyab</td>\n",
       "      <td>asad</td>\n",
       "      <td>1000</td>\n",
       "      <td>20.0</td>\n",
       "      <td>d_form</td>\n",
       "    </tr>\n",
       "    <tr>\n",
       "      <th>1</th>\n",
       "      <td>E02</td>\n",
       "      <td>umer</td>\n",
       "      <td>tanveer</td>\n",
       "      <td>23.0</td>\n",
       "      <td>se</td>\n",
       "      <td>kashif</td>\n",
       "      <td>tariq</td>\n",
       "      <td>2000</td>\n",
       "      <td>22.0</td>\n",
       "      <td>bs_maths</td>\n",
       "    </tr>\n",
       "    <tr>\n",
       "      <th>2</th>\n",
       "      <td>E03</td>\n",
       "      <td>ali</td>\n",
       "      <td>amjd</td>\n",
       "      <td>NaN</td>\n",
       "      <td>ds</td>\n",
       "      <td>asad</td>\n",
       "      <td>kashif</td>\n",
       "      <td>3000</td>\n",
       "      <td>23.0</td>\n",
       "      <td>law</td>\n",
       "    </tr>\n",
       "    <tr>\n",
       "      <th>3</th>\n",
       "      <td>E04</td>\n",
       "      <td>ahmed</td>\n",
       "      <td>umer</td>\n",
       "      <td>24.0</td>\n",
       "      <td>it</td>\n",
       "      <td>tariq</td>\n",
       "      <td>hatim</td>\n",
       "      <td>4000</td>\n",
       "      <td>NaN</td>\n",
       "      <td>english</td>\n",
       "    </tr>\n",
       "  </tbody>\n",
       "</table>\n",
       "</div>"
      ],
      "text/plain": [
       "  EMPID name_x last_name_x  age_x department_x  name_y last_name_y  salary  \\\n",
       "0   E01   None        khan   20.0           cs  tayyab        asad    1000   \n",
       "1   E02   umer     tanveer   23.0           se  kashif       tariq    2000   \n",
       "2   E03    ali        amjd    NaN           ds    asad      kashif    3000   \n",
       "3   E04  ahmed        umer   24.0           it   tariq       hatim    4000   \n",
       "\n",
       "   age_y department_y  \n",
       "0   20.0       d_form  \n",
       "1   22.0     bs_maths  \n",
       "2   23.0          law  \n",
       "3    NaN      english  "
      ]
     },
     "execution_count": 139,
     "metadata": {},
     "output_type": "execute_result"
    }
   ],
   "source": [
    "pd.merge(df1,df2,on=\"EMPID\")"
   ]
  },
  {
   "cell_type": "code",
   "execution_count": 142,
   "id": "e678a478-204d-4074-a03d-bdf6a9307a8e",
   "metadata": {},
   "outputs": [
    {
     "data": {
      "text/html": [
       "<div>\n",
       "<style scoped>\n",
       "    .dataframe tbody tr th:only-of-type {\n",
       "        vertical-align: middle;\n",
       "    }\n",
       "\n",
       "    .dataframe tbody tr th {\n",
       "        vertical-align: top;\n",
       "    }\n",
       "\n",
       "    .dataframe thead th {\n",
       "        text-align: right;\n",
       "    }\n",
       "</style>\n",
       "<table border=\"1\" class=\"dataframe\">\n",
       "  <thead>\n",
       "    <tr style=\"text-align: right;\">\n",
       "      <th></th>\n",
       "      <th>EMPID</th>\n",
       "      <th>name_x</th>\n",
       "      <th>last_name_x</th>\n",
       "      <th>salary</th>\n",
       "      <th>age_x</th>\n",
       "      <th>department_x</th>\n",
       "      <th>name_y</th>\n",
       "      <th>last_name_y</th>\n",
       "      <th>age_y</th>\n",
       "      <th>department_y</th>\n",
       "    </tr>\n",
       "  </thead>\n",
       "  <tbody>\n",
       "    <tr>\n",
       "      <th>0</th>\n",
       "      <td>E01</td>\n",
       "      <td>tayyab</td>\n",
       "      <td>asad</td>\n",
       "      <td>1000</td>\n",
       "      <td>20.0</td>\n",
       "      <td>d_form</td>\n",
       "      <td>None</td>\n",
       "      <td>khan</td>\n",
       "      <td>20.0</td>\n",
       "      <td>cs</td>\n",
       "    </tr>\n",
       "    <tr>\n",
       "      <th>1</th>\n",
       "      <td>E02</td>\n",
       "      <td>kashif</td>\n",
       "      <td>tariq</td>\n",
       "      <td>2000</td>\n",
       "      <td>22.0</td>\n",
       "      <td>bs_maths</td>\n",
       "      <td>umer</td>\n",
       "      <td>tanveer</td>\n",
       "      <td>23.0</td>\n",
       "      <td>se</td>\n",
       "    </tr>\n",
       "    <tr>\n",
       "      <th>2</th>\n",
       "      <td>E03</td>\n",
       "      <td>asad</td>\n",
       "      <td>kashif</td>\n",
       "      <td>3000</td>\n",
       "      <td>23.0</td>\n",
       "      <td>law</td>\n",
       "      <td>ali</td>\n",
       "      <td>amjd</td>\n",
       "      <td>NaN</td>\n",
       "      <td>ds</td>\n",
       "    </tr>\n",
       "    <tr>\n",
       "      <th>3</th>\n",
       "      <td>E04</td>\n",
       "      <td>tariq</td>\n",
       "      <td>hatim</td>\n",
       "      <td>4000</td>\n",
       "      <td>NaN</td>\n",
       "      <td>english</td>\n",
       "      <td>ahmed</td>\n",
       "      <td>umer</td>\n",
       "      <td>24.0</td>\n",
       "      <td>it</td>\n",
       "    </tr>\n",
       "    <tr>\n",
       "      <th>4</th>\n",
       "      <td>E06</td>\n",
       "      <td>qamar</td>\n",
       "      <td>john</td>\n",
       "      <td>5000</td>\n",
       "      <td>24.0</td>\n",
       "      <td>stats</td>\n",
       "      <td>NaN</td>\n",
       "      <td>NaN</td>\n",
       "      <td>NaN</td>\n",
       "      <td>NaN</td>\n",
       "    </tr>\n",
       "  </tbody>\n",
       "</table>\n",
       "</div>"
      ],
      "text/plain": [
       "  EMPID  name_x last_name_x  salary  age_x department_x name_y last_name_y  \\\n",
       "0   E01  tayyab        asad    1000   20.0       d_form   None        khan   \n",
       "1   E02  kashif       tariq    2000   22.0     bs_maths   umer     tanveer   \n",
       "2   E03    asad      kashif    3000   23.0          law    ali        amjd   \n",
       "3   E04   tariq       hatim    4000    NaN      english  ahmed        umer   \n",
       "4   E06   qamar        john    5000   24.0        stats    NaN         NaN   \n",
       "\n",
       "   age_y department_y  \n",
       "0   20.0           cs  \n",
       "1   23.0           se  \n",
       "2    NaN           ds  \n",
       "3   24.0           it  \n",
       "4    NaN          NaN  "
      ]
     },
     "execution_count": 142,
     "metadata": {},
     "output_type": "execute_result"
    }
   ],
   "source": [
    "pd.merge(right=df1,left=df2,on=\"EMPID\",how=\"left\")"
   ]
  },
  {
   "cell_type": "code",
   "execution_count": 143,
   "id": "71af8521-d1a0-4325-93af-3b51323713b7",
   "metadata": {},
   "outputs": [
    {
     "data": {
      "text/html": [
       "<div>\n",
       "<style scoped>\n",
       "    .dataframe tbody tr th:only-of-type {\n",
       "        vertical-align: middle;\n",
       "    }\n",
       "\n",
       "    .dataframe tbody tr th {\n",
       "        vertical-align: top;\n",
       "    }\n",
       "\n",
       "    .dataframe thead th {\n",
       "        text-align: right;\n",
       "    }\n",
       "</style>\n",
       "<table border=\"1\" class=\"dataframe\">\n",
       "  <thead>\n",
       "    <tr style=\"text-align: right;\">\n",
       "      <th></th>\n",
       "      <th>EMPID</th>\n",
       "      <th>name_x</th>\n",
       "      <th>last_name_x</th>\n",
       "      <th>salary</th>\n",
       "      <th>age_x</th>\n",
       "      <th>department_x</th>\n",
       "      <th>name_y</th>\n",
       "      <th>last_name_y</th>\n",
       "      <th>age_y</th>\n",
       "      <th>department_y</th>\n",
       "    </tr>\n",
       "  </thead>\n",
       "  <tbody>\n",
       "    <tr>\n",
       "      <th>0</th>\n",
       "      <td>E01</td>\n",
       "      <td>tayyab</td>\n",
       "      <td>asad</td>\n",
       "      <td>1000</td>\n",
       "      <td>20.0</td>\n",
       "      <td>d_form</td>\n",
       "      <td>None</td>\n",
       "      <td>khan</td>\n",
       "      <td>20.0</td>\n",
       "      <td>cs</td>\n",
       "    </tr>\n",
       "    <tr>\n",
       "      <th>1</th>\n",
       "      <td>E02</td>\n",
       "      <td>kashif</td>\n",
       "      <td>tariq</td>\n",
       "      <td>2000</td>\n",
       "      <td>22.0</td>\n",
       "      <td>bs_maths</td>\n",
       "      <td>umer</td>\n",
       "      <td>tanveer</td>\n",
       "      <td>23.0</td>\n",
       "      <td>se</td>\n",
       "    </tr>\n",
       "    <tr>\n",
       "      <th>2</th>\n",
       "      <td>E03</td>\n",
       "      <td>asad</td>\n",
       "      <td>kashif</td>\n",
       "      <td>3000</td>\n",
       "      <td>23.0</td>\n",
       "      <td>law</td>\n",
       "      <td>ali</td>\n",
       "      <td>amjd</td>\n",
       "      <td>NaN</td>\n",
       "      <td>ds</td>\n",
       "    </tr>\n",
       "    <tr>\n",
       "      <th>3</th>\n",
       "      <td>E04</td>\n",
       "      <td>tariq</td>\n",
       "      <td>hatim</td>\n",
       "      <td>4000</td>\n",
       "      <td>NaN</td>\n",
       "      <td>english</td>\n",
       "      <td>ahmed</td>\n",
       "      <td>umer</td>\n",
       "      <td>24.0</td>\n",
       "      <td>it</td>\n",
       "    </tr>\n",
       "  </tbody>\n",
       "</table>\n",
       "</div>"
      ],
      "text/plain": [
       "  EMPID  name_x last_name_x  salary  age_x department_x name_y last_name_y  \\\n",
       "0   E01  tayyab        asad    1000   20.0       d_form   None        khan   \n",
       "1   E02  kashif       tariq    2000   22.0     bs_maths   umer     tanveer   \n",
       "2   E03    asad      kashif    3000   23.0          law    ali        amjd   \n",
       "3   E04   tariq       hatim    4000    NaN      english  ahmed        umer   \n",
       "\n",
       "   age_y department_y  \n",
       "0   20.0           cs  \n",
       "1   23.0           se  \n",
       "2    NaN           ds  \n",
       "3   24.0           it  "
      ]
     },
     "execution_count": 143,
     "metadata": {},
     "output_type": "execute_result"
    }
   ],
   "source": [
    "pd.merge(right=df1,left=df2,on=\"EMPID\",how=\"inner\")"
   ]
  },
  {
   "cell_type": "code",
   "execution_count": 144,
   "id": "120d8d66-3492-43ff-a757-328f7d9b137e",
   "metadata": {},
   "outputs": [],
   "source": [
    "data3={\"salary\":[2000,3000,4000,5000,6000],\n",
    "       \"cars\":[\"BMW\",\"MERCEDES\",\"TOYOTA\",\"RR\",\"LAMBO\"]}"
   ]
  },
  {
   "cell_type": "code",
   "execution_count": 145,
   "id": "83ce7eb7-f981-4572-a7c4-657926958e4b",
   "metadata": {},
   "outputs": [],
   "source": [
    "df3=pd.DataFrame(data3)"
   ]
  },
  {
   "cell_type": "code",
   "execution_count": 148,
   "id": "b2880904-dce9-4f42-a1c8-8d0d84e266db",
   "metadata": {},
   "outputs": [],
   "source": [
    "complete_Data = df1.join(df3)"
   ]
  },
  {
   "cell_type": "code",
   "execution_count": 151,
   "id": "b8cc2f6d-2f16-4580-a0a3-d1359cb03f7e",
   "metadata": {},
   "outputs": [
    {
     "name": "stdout",
     "output_type": "stream",
     "text": [
      "  EMPID   name last_name   age department  salary      cars\n",
      "0   E01   None      khan  20.0         cs    2000       BMW\n",
      "1   E02   umer   tanveer  23.0         se    3000  MERCEDES\n",
      "2   E03    ali      amjd   NaN         ds    4000    TOYOTA\n",
      "3   E04  ahmed      umer  24.0         it    5000        RR\n",
      "4   E05   None    safeer   NaN        bba    6000     LAMBO\n"
     ]
    }
   ],
   "source": [
    "print(complete_Data)"
   ]
  },
  {
   "cell_type": "code",
   "execution_count": 152,
   "id": "dce6e1d6-670e-4a42-b569-54c3b1821e0d",
   "metadata": {},
   "outputs": [
    {
     "data": {
      "text/html": [
       "<div>\n",
       "<style scoped>\n",
       "    .dataframe tbody tr th:only-of-type {\n",
       "        vertical-align: middle;\n",
       "    }\n",
       "\n",
       "    .dataframe tbody tr th {\n",
       "        vertical-align: top;\n",
       "    }\n",
       "\n",
       "    .dataframe thead th {\n",
       "        text-align: right;\n",
       "    }\n",
       "</style>\n",
       "<table border=\"1\" class=\"dataframe\">\n",
       "  <thead>\n",
       "    <tr style=\"text-align: right;\">\n",
       "      <th></th>\n",
       "      <th>last_name</th>\n",
       "      <th>age</th>\n",
       "    </tr>\n",
       "  </thead>\n",
       "  <tbody>\n",
       "    <tr>\n",
       "      <th>1</th>\n",
       "      <td>tanveer</td>\n",
       "      <td>23.0</td>\n",
       "    </tr>\n",
       "    <tr>\n",
       "      <th>3</th>\n",
       "      <td>umer</td>\n",
       "      <td>24.0</td>\n",
       "    </tr>\n",
       "  </tbody>\n",
       "</table>\n",
       "</div>"
      ],
      "text/plain": [
       "  last_name   age\n",
       "1   tanveer  23.0\n",
       "3      umer  24.0"
      ]
     },
     "execution_count": 152,
     "metadata": {},
     "output_type": "execute_result"
    }
   ],
   "source": [
    "df1.iloc[[1,3],[2,3]]"
   ]
  },
  {
   "cell_type": "code",
   "execution_count": 156,
   "id": "b6192e89-402f-4489-abeb-7843603d9f40",
   "metadata": {},
   "outputs": [
    {
     "data": {
      "text/html": [
       "<div>\n",
       "<style scoped>\n",
       "    .dataframe tbody tr th:only-of-type {\n",
       "        vertical-align: middle;\n",
       "    }\n",
       "\n",
       "    .dataframe tbody tr th {\n",
       "        vertical-align: top;\n",
       "    }\n",
       "\n",
       "    .dataframe thead th {\n",
       "        text-align: right;\n",
       "    }\n",
       "</style>\n",
       "<table border=\"1\" class=\"dataframe\">\n",
       "  <thead>\n",
       "    <tr style=\"text-align: right;\">\n",
       "      <th></th>\n",
       "      <th>name</th>\n",
       "      <th>last_name</th>\n",
       "    </tr>\n",
       "  </thead>\n",
       "  <tbody>\n",
       "    <tr>\n",
       "      <th>0</th>\n",
       "      <td>tayyab</td>\n",
       "      <td>asad</td>\n",
       "    </tr>\n",
       "    <tr>\n",
       "      <th>1</th>\n",
       "      <td>kashif</td>\n",
       "      <td>tariq</td>\n",
       "    </tr>\n",
       "    <tr>\n",
       "      <th>2</th>\n",
       "      <td>asad</td>\n",
       "      <td>kashif</td>\n",
       "    </tr>\n",
       "  </tbody>\n",
       "</table>\n",
       "</div>"
      ],
      "text/plain": [
       "     name last_name\n",
       "0  tayyab      asad\n",
       "1  kashif     tariq\n",
       "2    asad    kashif"
      ]
     },
     "execution_count": 156,
     "metadata": {},
     "output_type": "execute_result"
    }
   ],
   "source": [
    "df2.iloc[0:3,1:3]"
   ]
  },
  {
   "cell_type": "code",
   "execution_count": 158,
   "id": "5fb514f8-ae07-48f1-b6f6-75650bee7759",
   "metadata": {},
   "outputs": [
    {
     "data": {
      "text/plain": [
       "0     None\n",
       "1     Umer\n",
       "2      Ali\n",
       "3    Ahmed\n",
       "4     None\n",
       "Name: name, dtype: object"
      ]
     },
     "execution_count": 158,
     "metadata": {},
     "output_type": "execute_result"
    }
   ],
   "source": [
    "df1[\"name\"].str.capitalize()"
   ]
  },
  {
   "cell_type": "markdown",
   "id": "46bc7dcd-aea2-4428-8194-d20e3e6d2a62",
   "metadata": {},
   "source": [
    "# modification for source file"
   ]
  },
  {
   "cell_type": "code",
   "execution_count": 228,
   "id": "2b3b331e-9cd7-491c-8098-2c86d2f071b3",
   "metadata": {},
   "outputs": [
    {
     "ename": "KeyError",
     "evalue": "\"['unknown', 'umer', 'ali', 'ahmed', 'unknown'] not found in axis\"",
     "output_type": "error",
     "traceback": [
      "\u001b[1;31m---------------------------------------------------------------------------\u001b[0m",
      "\u001b[1;31mKeyError\u001b[0m                                  Traceback (most recent call last)",
      "Cell \u001b[1;32mIn[228], line 1\u001b[0m\n\u001b[1;32m----> 1\u001b[0m df1\u001b[38;5;241m.\u001b[39mdrop(df1[\u001b[38;5;124m\"\u001b[39m\u001b[38;5;124mname\u001b[39m\u001b[38;5;124m\"\u001b[39m],inplace\u001b[38;5;241m=\u001b[39m\u001b[38;5;28;01mTrue\u001b[39;00m)\n",
      "File \u001b[1;32m~\\anaconda3\\Lib\\site-packages\\pandas\\core\\frame.py:5581\u001b[0m, in \u001b[0;36mDataFrame.drop\u001b[1;34m(self, labels, axis, index, columns, level, inplace, errors)\u001b[0m\n\u001b[0;32m   5433\u001b[0m \u001b[38;5;28;01mdef\u001b[39;00m \u001b[38;5;21mdrop\u001b[39m(\n\u001b[0;32m   5434\u001b[0m     \u001b[38;5;28mself\u001b[39m,\n\u001b[0;32m   5435\u001b[0m     labels: IndexLabel \u001b[38;5;241m|\u001b[39m \u001b[38;5;28;01mNone\u001b[39;00m \u001b[38;5;241m=\u001b[39m \u001b[38;5;28;01mNone\u001b[39;00m,\n\u001b[1;32m   (...)\u001b[0m\n\u001b[0;32m   5442\u001b[0m     errors: IgnoreRaise \u001b[38;5;241m=\u001b[39m \u001b[38;5;124m\"\u001b[39m\u001b[38;5;124mraise\u001b[39m\u001b[38;5;124m\"\u001b[39m,\n\u001b[0;32m   5443\u001b[0m ) \u001b[38;5;241m-\u001b[39m\u001b[38;5;241m>\u001b[39m DataFrame \u001b[38;5;241m|\u001b[39m \u001b[38;5;28;01mNone\u001b[39;00m:\n\u001b[0;32m   5444\u001b[0m \u001b[38;5;250m    \u001b[39m\u001b[38;5;124;03m\"\"\"\u001b[39;00m\n\u001b[0;32m   5445\u001b[0m \u001b[38;5;124;03m    Drop specified labels from rows or columns.\u001b[39;00m\n\u001b[0;32m   5446\u001b[0m \n\u001b[1;32m   (...)\u001b[0m\n\u001b[0;32m   5579\u001b[0m \u001b[38;5;124;03m            weight  1.0     0.8\u001b[39;00m\n\u001b[0;32m   5580\u001b[0m \u001b[38;5;124;03m    \"\"\"\u001b[39;00m\n\u001b[1;32m-> 5581\u001b[0m     \u001b[38;5;28;01mreturn\u001b[39;00m \u001b[38;5;28msuper\u001b[39m()\u001b[38;5;241m.\u001b[39mdrop(\n\u001b[0;32m   5582\u001b[0m         labels\u001b[38;5;241m=\u001b[39mlabels,\n\u001b[0;32m   5583\u001b[0m         axis\u001b[38;5;241m=\u001b[39maxis,\n\u001b[0;32m   5584\u001b[0m         index\u001b[38;5;241m=\u001b[39mindex,\n\u001b[0;32m   5585\u001b[0m         columns\u001b[38;5;241m=\u001b[39mcolumns,\n\u001b[0;32m   5586\u001b[0m         level\u001b[38;5;241m=\u001b[39mlevel,\n\u001b[0;32m   5587\u001b[0m         inplace\u001b[38;5;241m=\u001b[39minplace,\n\u001b[0;32m   5588\u001b[0m         errors\u001b[38;5;241m=\u001b[39merrors,\n\u001b[0;32m   5589\u001b[0m     )\n",
      "File \u001b[1;32m~\\anaconda3\\Lib\\site-packages\\pandas\\core\\generic.py:4788\u001b[0m, in \u001b[0;36mNDFrame.drop\u001b[1;34m(self, labels, axis, index, columns, level, inplace, errors)\u001b[0m\n\u001b[0;32m   4786\u001b[0m \u001b[38;5;28;01mfor\u001b[39;00m axis, labels \u001b[38;5;129;01min\u001b[39;00m axes\u001b[38;5;241m.\u001b[39mitems():\n\u001b[0;32m   4787\u001b[0m     \u001b[38;5;28;01mif\u001b[39;00m labels \u001b[38;5;129;01mis\u001b[39;00m \u001b[38;5;129;01mnot\u001b[39;00m \u001b[38;5;28;01mNone\u001b[39;00m:\n\u001b[1;32m-> 4788\u001b[0m         obj \u001b[38;5;241m=\u001b[39m obj\u001b[38;5;241m.\u001b[39m_drop_axis(labels, axis, level\u001b[38;5;241m=\u001b[39mlevel, errors\u001b[38;5;241m=\u001b[39merrors)\n\u001b[0;32m   4790\u001b[0m \u001b[38;5;28;01mif\u001b[39;00m inplace:\n\u001b[0;32m   4791\u001b[0m     \u001b[38;5;28mself\u001b[39m\u001b[38;5;241m.\u001b[39m_update_inplace(obj)\n",
      "File \u001b[1;32m~\\anaconda3\\Lib\\site-packages\\pandas\\core\\generic.py:4830\u001b[0m, in \u001b[0;36mNDFrame._drop_axis\u001b[1;34m(self, labels, axis, level, errors, only_slice)\u001b[0m\n\u001b[0;32m   4828\u001b[0m         new_axis \u001b[38;5;241m=\u001b[39m axis\u001b[38;5;241m.\u001b[39mdrop(labels, level\u001b[38;5;241m=\u001b[39mlevel, errors\u001b[38;5;241m=\u001b[39merrors)\n\u001b[0;32m   4829\u001b[0m     \u001b[38;5;28;01melse\u001b[39;00m:\n\u001b[1;32m-> 4830\u001b[0m         new_axis \u001b[38;5;241m=\u001b[39m axis\u001b[38;5;241m.\u001b[39mdrop(labels, errors\u001b[38;5;241m=\u001b[39merrors)\n\u001b[0;32m   4831\u001b[0m     indexer \u001b[38;5;241m=\u001b[39m axis\u001b[38;5;241m.\u001b[39mget_indexer(new_axis)\n\u001b[0;32m   4833\u001b[0m \u001b[38;5;66;03m# Case for non-unique axis\u001b[39;00m\n\u001b[0;32m   4834\u001b[0m \u001b[38;5;28;01melse\u001b[39;00m:\n",
      "File \u001b[1;32m~\\anaconda3\\Lib\\site-packages\\pandas\\core\\indexes\\base.py:7070\u001b[0m, in \u001b[0;36mIndex.drop\u001b[1;34m(self, labels, errors)\u001b[0m\n\u001b[0;32m   7068\u001b[0m \u001b[38;5;28;01mif\u001b[39;00m mask\u001b[38;5;241m.\u001b[39many():\n\u001b[0;32m   7069\u001b[0m     \u001b[38;5;28;01mif\u001b[39;00m errors \u001b[38;5;241m!=\u001b[39m \u001b[38;5;124m\"\u001b[39m\u001b[38;5;124mignore\u001b[39m\u001b[38;5;124m\"\u001b[39m:\n\u001b[1;32m-> 7070\u001b[0m         \u001b[38;5;28;01mraise\u001b[39;00m \u001b[38;5;167;01mKeyError\u001b[39;00m(\u001b[38;5;124mf\u001b[39m\u001b[38;5;124m\"\u001b[39m\u001b[38;5;132;01m{\u001b[39;00mlabels[mask]\u001b[38;5;241m.\u001b[39mtolist()\u001b[38;5;132;01m}\u001b[39;00m\u001b[38;5;124m not found in axis\u001b[39m\u001b[38;5;124m\"\u001b[39m)\n\u001b[0;32m   7071\u001b[0m     indexer \u001b[38;5;241m=\u001b[39m indexer[\u001b[38;5;241m~\u001b[39mmask]\n\u001b[0;32m   7072\u001b[0m \u001b[38;5;28;01mreturn\u001b[39;00m \u001b[38;5;28mself\u001b[39m\u001b[38;5;241m.\u001b[39mdelete(indexer)\n",
      "\u001b[1;31mKeyError\u001b[0m: \"['unknown', 'umer', 'ali', 'ahmed', 'unknown'] not found in axis\""
     ]
    }
   ],
   "source": [
    "df1=df1.(df1[\"name\"],inplace=True)"
   ]
  },
  {
   "cell_type": "code",
   "execution_count": null,
   "id": "b3885541-874d-4312-89d2-c3d1d1277a82",
   "metadata": {},
   "outputs": [],
   "source": [
    "print(df1)"
   ]
  },
  {
   "cell_type": "code",
   "execution_count": 163,
   "id": "e7784bb2-cdae-44d6-89b5-464ef5001bdc",
   "metadata": {},
   "outputs": [
    {
     "name": "stdout",
     "output_type": "stream",
     "text": [
      "  EMPID     name last_name   age department\n",
      "0   E01  unknown      khan  20.0         cs\n",
      "1   E02     umer   tanveer  23.0         se\n",
      "2   E03      ali      amjd   NaN         ds\n",
      "3   E04    ahmed      umer  24.0         it\n",
      "4   E05  unknown    safeer   NaN        bba\n"
     ]
    }
   ],
   "source": [
    "df1['name'].fillna('unknown',inplace=True)\n",
    "print(df1)"
   ]
  },
  {
   "cell_type": "code",
   "execution_count": 165,
   "id": "aabc3214-6f7a-4734-bcd3-900335b96c42",
   "metadata": {},
   "outputs": [
    {
     "name": "stderr",
     "output_type": "stream",
     "text": [
      "C:\\Users\\admin\\AppData\\Local\\Temp\\ipykernel_3988\\376674367.py:1: FutureWarning: Series.fillna with 'method' is deprecated and will raise in a future version. Use obj.ffill() or obj.bfill() instead.\n",
      "  df2['age'].fillna(method=\"bfill\")\n"
     ]
    },
    {
     "data": {
      "text/plain": [
       "0    20.0\n",
       "1    22.0\n",
       "2    23.0\n",
       "3    24.0\n",
       "4    24.0\n",
       "Name: age, dtype: float64"
      ]
     },
     "execution_count": 165,
     "metadata": {},
     "output_type": "execute_result"
    }
   ],
   "source": [
    "df2['age'].fillna(method=\"bfill\")"
   ]
  },
  {
   "cell_type": "code",
   "execution_count": 167,
   "id": "00a2efa2-1b10-45da-b16f-0ea43d2e4c5e",
   "metadata": {},
   "outputs": [
    {
     "name": "stderr",
     "output_type": "stream",
     "text": [
      "C:\\Users\\admin\\AppData\\Local\\Temp\\ipykernel_3988\\41154609.py:1: FutureWarning: Series.fillna with 'method' is deprecated and will raise in a future version. Use obj.ffill() or obj.bfill() instead.\n",
      "  df2['age'].fillna(method=\"ffill\")\n"
     ]
    },
    {
     "data": {
      "text/plain": [
       "0    20.0\n",
       "1    22.0\n",
       "2    23.0\n",
       "3    23.0\n",
       "4    24.0\n",
       "Name: age, dtype: float64"
      ]
     },
     "execution_count": 167,
     "metadata": {},
     "output_type": "execute_result"
    }
   ],
   "source": [
    "df2['age'].fillna(method=\"ffill\")"
   ]
  },
  {
   "cell_type": "code",
   "execution_count": 169,
   "id": "81c94afd-7924-42be-8b68-3a1a8329d732",
   "metadata": {},
   "outputs": [
    {
     "data": {
      "text/html": [
       "<div>\n",
       "<style scoped>\n",
       "    .dataframe tbody tr th:only-of-type {\n",
       "        vertical-align: middle;\n",
       "    }\n",
       "\n",
       "    .dataframe tbody tr th {\n",
       "        vertical-align: top;\n",
       "    }\n",
       "\n",
       "    .dataframe thead th {\n",
       "        text-align: right;\n",
       "    }\n",
       "</style>\n",
       "<table border=\"1\" class=\"dataframe\">\n",
       "  <thead>\n",
       "    <tr style=\"text-align: right;\">\n",
       "      <th></th>\n",
       "      <th>EMPID</th>\n",
       "      <th>name</th>\n",
       "      <th>last_name</th>\n",
       "      <th>salary</th>\n",
       "      <th>age</th>\n",
       "      <th>department</th>\n",
       "    </tr>\n",
       "  </thead>\n",
       "  <tbody>\n",
       "    <tr>\n",
       "      <th>0</th>\n",
       "      <td>False</td>\n",
       "      <td>False</td>\n",
       "      <td>False</td>\n",
       "      <td>False</td>\n",
       "      <td>False</td>\n",
       "      <td>False</td>\n",
       "    </tr>\n",
       "    <tr>\n",
       "      <th>1</th>\n",
       "      <td>False</td>\n",
       "      <td>False</td>\n",
       "      <td>False</td>\n",
       "      <td>False</td>\n",
       "      <td>False</td>\n",
       "      <td>False</td>\n",
       "    </tr>\n",
       "    <tr>\n",
       "      <th>2</th>\n",
       "      <td>False</td>\n",
       "      <td>False</td>\n",
       "      <td>False</td>\n",
       "      <td>False</td>\n",
       "      <td>False</td>\n",
       "      <td>False</td>\n",
       "    </tr>\n",
       "    <tr>\n",
       "      <th>3</th>\n",
       "      <td>False</td>\n",
       "      <td>False</td>\n",
       "      <td>False</td>\n",
       "      <td>False</td>\n",
       "      <td>True</td>\n",
       "      <td>False</td>\n",
       "    </tr>\n",
       "    <tr>\n",
       "      <th>4</th>\n",
       "      <td>False</td>\n",
       "      <td>False</td>\n",
       "      <td>False</td>\n",
       "      <td>False</td>\n",
       "      <td>False</td>\n",
       "      <td>False</td>\n",
       "    </tr>\n",
       "  </tbody>\n",
       "</table>\n",
       "</div>"
      ],
      "text/plain": [
       "   EMPID   name  last_name  salary    age  department\n",
       "0  False  False      False   False  False       False\n",
       "1  False  False      False   False  False       False\n",
       "2  False  False      False   False  False       False\n",
       "3  False  False      False   False   True       False\n",
       "4  False  False      False   False  False       False"
      ]
     },
     "execution_count": 169,
     "metadata": {},
     "output_type": "execute_result"
    }
   ],
   "source": [
    "df2.isnull()"
   ]
  },
  {
   "cell_type": "code",
   "execution_count": 171,
   "id": "f8958e33-fa7f-4b9c-8aa3-5a52ce1ec09d",
   "metadata": {},
   "outputs": [
    {
     "data": {
      "text/plain": [
       "EMPID         0\n",
       "name          0\n",
       "last_name     0\n",
       "salary        0\n",
       "age           1\n",
       "department    0\n",
       "dtype: int64"
      ]
     },
     "execution_count": 171,
     "metadata": {},
     "output_type": "execute_result"
    }
   ],
   "source": [
    "df2.isnull().sum()"
   ]
  },
  {
   "cell_type": "code",
   "execution_count": 173,
   "id": "9144f235-ba09-45d2-81d7-8655fa6d77f7",
   "metadata": {},
   "outputs": [
    {
     "data": {
      "text/plain": [
       "EMPID         0\n",
       "name          0\n",
       "last_name     0\n",
       "age           2\n",
       "department    0\n",
       "dtype: int64"
      ]
     },
     "execution_count": 173,
     "metadata": {},
     "output_type": "execute_result"
    }
   ],
   "source": [
    "df1.isnull().sum()"
   ]
  },
  {
   "cell_type": "code",
   "execution_count": 185,
   "id": "7ffb850f-4a27-47f7-8f89-58428b32a0b9",
   "metadata": {},
   "outputs": [
    {
     "name": "stdout",
     "output_type": "stream",
     "text": [
      "  EMPID    name last_name  salary   age department\n",
      "0   E01  tayyab      asad    1000  20.0     d_form\n",
      "1   E02  kashif     tariq    2000  22.0   bs_maths\n",
      "2   E03    asad    kashif    3000  23.0        law\n",
      "3   E04   tariq     hatim    4000   NaN    english\n",
      "4   E06   qamar      john    5000  24.0      stats\n"
     ]
    }
   ],
   "source": [
    "print(df2)"
   ]
  },
  {
   "cell_type": "code",
   "execution_count": 193,
   "id": "f93147b9-66fe-4e8b-aefe-c01bffaff803",
   "metadata": {},
   "outputs": [],
   "source": [
    "mean_v=df2['age'].mean()"
   ]
  },
  {
   "cell_type": "code",
   "execution_count": 195,
   "id": "beb72e1b-826b-4178-82e1-73825f164a84",
   "metadata": {},
   "outputs": [
    {
     "data": {
      "text/plain": [
       "22.25"
      ]
     },
     "execution_count": 195,
     "metadata": {},
     "output_type": "execute_result"
    }
   ],
   "source": [
    "mean_v"
   ]
  },
  {
   "cell_type": "code",
   "execution_count": 222,
   "id": "bab62d47-7ac5-4781-bb15-f317a161a055",
   "metadata": {},
   "outputs": [
    {
     "data": {
      "text/plain": [
       "0    20.00\n",
       "1    22.00\n",
       "2    23.00\n",
       "3    22.25\n",
       "4    24.00\n",
       "Name: age, dtype: float64"
      ]
     },
     "execution_count": 222,
     "metadata": {},
     "output_type": "execute_result"
    }
   ],
   "source": [
    "df2['age'].fillna(value=df2['age'].mean())"
   ]
  },
  {
   "cell_type": "code",
   "execution_count": 224,
   "id": "f18f0354-f43a-4792-8807-fd42a6fd2822",
   "metadata": {},
   "outputs": [
    {
     "name": "stdout",
     "output_type": "stream",
     "text": [
      "  EMPID    name last_name  salary    age department\n",
      "0   E01  tayyab      asad    1000  20.00     d_form\n",
      "1   E02  kashif     tariq    2000  22.00   bs_maths\n",
      "2   E03    asad    kashif    3000  23.00        law\n",
      "3   E04   tariq     hatim    4000  22.25    english\n",
      "4   E06   qamar      john    5000  24.00      stats\n"
     ]
    }
   ],
   "source": [
    "print(df2)"
   ]
  },
  {
   "cell_type": "code",
   "execution_count": null,
   "id": "51772777-fced-4f23-b43d-cd6f8f7cb7c8",
   "metadata": {},
   "outputs": [],
   "source": []
  }
 ],
 "metadata": {
  "kernelspec": {
   "display_name": "Python [conda env:base] *",
   "language": "python",
   "name": "conda-base-py"
  },
  "language_info": {
   "codemirror_mode": {
    "name": "ipython",
    "version": 3
   },
   "file_extension": ".py",
   "mimetype": "text/x-python",
   "name": "python",
   "nbconvert_exporter": "python",
   "pygments_lexer": "ipython3",
   "version": "3.12.7"
  }
 },
 "nbformat": 4,
 "nbformat_minor": 5
}
